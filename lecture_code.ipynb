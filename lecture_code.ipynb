{
 "cells": [
  {
   "cell_type": "code",
   "execution_count": 1,
   "id": "7604b4b3",
   "metadata": {},
   "outputs": [
    {
     "data": {
      "text/html": [
       "<div>\n",
       "<style scoped>\n",
       "    .dataframe tbody tr th:only-of-type {\n",
       "        vertical-align: middle;\n",
       "    }\n",
       "\n",
       "    .dataframe tbody tr th {\n",
       "        vertical-align: top;\n",
       "    }\n",
       "\n",
       "    .dataframe thead th {\n",
       "        text-align: right;\n",
       "    }\n",
       "</style>\n",
       "<table border=\"1\" class=\"dataframe\">\n",
       "  <thead>\n",
       "    <tr style=\"text-align: right;\">\n",
       "      <th></th>\n",
       "      <th>PCE</th>\n",
       "      <th>WAG_S</th>\n",
       "    </tr>\n",
       "  </thead>\n",
       "  <tbody>\n",
       "    <tr>\n",
       "      <th>20</th>\n",
       "      <td>10202.2</td>\n",
       "      <td>6377.5</td>\n",
       "    </tr>\n",
       "    <tr>\n",
       "      <th>21</th>\n",
       "      <td>10689.3</td>\n",
       "      <td>6633.2</td>\n",
       "    </tr>\n",
       "    <tr>\n",
       "      <th>22</th>\n",
       "      <td>11050.6</td>\n",
       "      <td>6930.3</td>\n",
       "    </tr>\n",
       "    <tr>\n",
       "      <th>23</th>\n",
       "      <td>11392.3</td>\n",
       "      <td>7114.4</td>\n",
       "    </tr>\n",
       "    <tr>\n",
       "      <th>24</th>\n",
       "      <td>11865.9</td>\n",
       "      <td>7477.8</td>\n",
       "    </tr>\n",
       "  </tbody>\n",
       "</table>\n",
       "</div>"
      ],
      "text/plain": [
       "        PCE   WAG_S\n",
       "20  10202.2  6377.5\n",
       "21  10689.3  6633.2\n",
       "22  11050.6  6930.3\n",
       "23  11392.3  7114.4\n",
       "24  11865.9  7477.8"
      ]
     },
     "execution_count": 1,
     "metadata": {},
     "output_type": "execute_result"
    }
   ],
   "source": [
    "import pandas as pd\n",
    "\n",
    "df = pd.read_csv('.\\PRAC_DATA.csv')\n",
    "\n",
    "#show the first 5 observations\n",
    "df.head(5)\n",
    "\n",
    "#show the last 5 obs\n",
    "\n",
    "df.tail(5)"
   ]
  },
  {
   "cell_type": "code",
   "execution_count": 2,
   "id": "1bb5ce41",
   "metadata": {},
   "outputs": [
    {
     "data": {
      "text/html": [
       "<div>\n",
       "<style scoped>\n",
       "    .dataframe tbody tr th:only-of-type {\n",
       "        vertical-align: middle;\n",
       "    }\n",
       "\n",
       "    .dataframe tbody tr th {\n",
       "        vertical-align: top;\n",
       "    }\n",
       "\n",
       "    .dataframe thead th {\n",
       "        text-align: right;\n",
       "    }\n",
       "</style>\n",
       "<table border=\"1\" class=\"dataframe\">\n",
       "  <thead>\n",
       "    <tr style=\"text-align: right;\">\n",
       "      <th></th>\n",
       "      <th>PCE</th>\n",
       "      <th>WAG_S</th>\n",
       "    </tr>\n",
       "  </thead>\n",
       "  <tbody>\n",
       "    <tr>\n",
       "      <th>0</th>\n",
       "      <td>3825.600</td>\n",
       "      <td>2741.200000</td>\n",
       "    </tr>\n",
       "    <tr>\n",
       "      <th>1</th>\n",
       "      <td>3960.200</td>\n",
       "      <td>2814.500000</td>\n",
       "    </tr>\n",
       "    <tr>\n",
       "      <th>2</th>\n",
       "      <td>4215.700</td>\n",
       "      <td>2965.500000</td>\n",
       "    </tr>\n",
       "    <tr>\n",
       "      <th>3</th>\n",
       "      <td>4471.000</td>\n",
       "      <td>3079.300000</td>\n",
       "    </tr>\n",
       "    <tr>\n",
       "      <th>4</th>\n",
       "      <td>4741.000</td>\n",
       "      <td>3236.600000</td>\n",
       "    </tr>\n",
       "    <tr>\n",
       "      <th>5</th>\n",
       "      <td>4984.200</td>\n",
       "      <td>3418.000000</td>\n",
       "    </tr>\n",
       "    <tr>\n",
       "      <th>6</th>\n",
       "      <td>5268.100</td>\n",
       "      <td>3616.500000</td>\n",
       "    </tr>\n",
       "    <tr>\n",
       "      <th>7</th>\n",
       "      <td>5560.700</td>\n",
       "      <td>3876.800000</td>\n",
       "    </tr>\n",
       "    <tr>\n",
       "      <th>8</th>\n",
       "      <td>5903.000</td>\n",
       "      <td>4181.600000</td>\n",
       "    </tr>\n",
       "    <tr>\n",
       "      <th>9</th>\n",
       "      <td>6307.000</td>\n",
       "      <td>4458.000000</td>\n",
       "    </tr>\n",
       "    <tr>\n",
       "      <th>10</th>\n",
       "      <td>6792.400</td>\n",
       "      <td>4825.900000</td>\n",
       "    </tr>\n",
       "    <tr>\n",
       "      <th>11</th>\n",
       "      <td>7103.100</td>\n",
       "      <td>5009.629167</td>\n",
       "    </tr>\n",
       "    <tr>\n",
       "      <th>12</th>\n",
       "      <td>7384.100</td>\n",
       "      <td>4996.400000</td>\n",
       "    </tr>\n",
       "    <tr>\n",
       "      <th>13</th>\n",
       "      <td>7765.500</td>\n",
       "      <td>5137.800000</td>\n",
       "    </tr>\n",
       "    <tr>\n",
       "      <th>14</th>\n",
       "      <td>8260.000</td>\n",
       "      <td>5421.900000</td>\n",
       "    </tr>\n",
       "    <tr>\n",
       "      <th>15</th>\n",
       "      <td>8794.100</td>\n",
       "      <td>5692.000000</td>\n",
       "    </tr>\n",
       "    <tr>\n",
       "      <th>16</th>\n",
       "      <td>9304.000</td>\n",
       "      <td>6057.400000</td>\n",
       "    </tr>\n",
       "    <tr>\n",
       "      <th>17</th>\n",
       "      <td>7487.525</td>\n",
       "      <td>6395.200000</td>\n",
       "    </tr>\n",
       "    <tr>\n",
       "      <th>18</th>\n",
       "      <td>10013.600</td>\n",
       "      <td>6531.900000</td>\n",
       "    </tr>\n",
       "    <tr>\n",
       "      <th>19</th>\n",
       "      <td>9847.000</td>\n",
       "      <td>6251.400000</td>\n",
       "    </tr>\n",
       "    <tr>\n",
       "      <th>20</th>\n",
       "      <td>10202.200</td>\n",
       "      <td>6377.500000</td>\n",
       "    </tr>\n",
       "    <tr>\n",
       "      <th>21</th>\n",
       "      <td>10689.300</td>\n",
       "      <td>6633.200000</td>\n",
       "    </tr>\n",
       "    <tr>\n",
       "      <th>22</th>\n",
       "      <td>11050.600</td>\n",
       "      <td>6930.300000</td>\n",
       "    </tr>\n",
       "    <tr>\n",
       "      <th>23</th>\n",
       "      <td>11392.300</td>\n",
       "      <td>7114.400000</td>\n",
       "    </tr>\n",
       "    <tr>\n",
       "      <th>24</th>\n",
       "      <td>11865.900</td>\n",
       "      <td>7477.800000</td>\n",
       "    </tr>\n",
       "  </tbody>\n",
       "</table>\n",
       "</div>"
      ],
      "text/plain": [
       "          PCE        WAG_S\n",
       "0    3825.600  2741.200000\n",
       "1    3960.200  2814.500000\n",
       "2    4215.700  2965.500000\n",
       "3    4471.000  3079.300000\n",
       "4    4741.000  3236.600000\n",
       "5    4984.200  3418.000000\n",
       "6    5268.100  3616.500000\n",
       "7    5560.700  3876.800000\n",
       "8    5903.000  4181.600000\n",
       "9    6307.000  4458.000000\n",
       "10   6792.400  4825.900000\n",
       "11   7103.100  5009.629167\n",
       "12   7384.100  4996.400000\n",
       "13   7765.500  5137.800000\n",
       "14   8260.000  5421.900000\n",
       "15   8794.100  5692.000000\n",
       "16   9304.000  6057.400000\n",
       "17   7487.525  6395.200000\n",
       "18  10013.600  6531.900000\n",
       "19   9847.000  6251.400000\n",
       "20  10202.200  6377.500000\n",
       "21  10689.300  6633.200000\n",
       "22  11050.600  6930.300000\n",
       "23  11392.300  7114.400000\n",
       "24  11865.900  7477.800000"
      ]
     },
     "execution_count": 2,
     "metadata": {},
     "output_type": "execute_result"
    }
   ],
   "source": [
    "df2 = pd.read_csv('.\\PRAC_DATA2.csv')\n",
    "df2.isnull()\n",
    "\n",
    "# option when dealing with missing data: (delete all of them)\n",
    "\n",
    "df2.dropna()\n",
    "\n",
    "df2.fillna(df2.mean())"
   ]
  },
  {
   "cell_type": "code",
   "execution_count": 3,
   "id": "01c34829",
   "metadata": {},
   "outputs": [
    {
     "data": {
      "image/png": "[encoded data removed]",
      "text/plain": [
       "<Figure size 432x288 with 1 Axes>"
      ]
     },
     "metadata": {
      "needs_background": "light"
     },
     "output_type": "display_data"
    }
   ],
   "source": [
    "\"\"\" SCATTER PLOT \"\"\"\n",
    "import numpy as np\n",
    "import pandas as pd\n",
    "import matplotlib.pyplot as plt\n",
    "\n",
    "%matplotlib inline\n",
    "\n",
    "Location = \".\\PRAC_DATA.csv\"\n",
    "df = pd.read_csv(Location)\n",
    "\n",
    "plt.scatter(df.index, df['PCE'])\n",
    "plt.xlabel('Index')\n",
    "plt.ylabel('Personal Consumption Exp $')\n",
    "plt.title('Python scatter plot: Plotting numbers')\n",
    "plt.show()"
   ]
  },
  {
   "cell_type": "code",
   "execution_count": 4,
   "id": "069d309f",
   "metadata": {},
   "outputs": [
    {
     "data": {
      "image/png": "[encoded data removed]",
      "text/plain": [
       "<Figure size 432x288 with 1 Axes>"
      ]
     },
     "metadata": {
      "needs_background": "light"
     },
     "output_type": "display_data"
    }
   ],
   "source": [
    "\"\"\" HISTOGRAM \"\"\"\n",
    "a=df['PCE'].values.tolist()\n",
    "b=df['WAG_S'].values.tolist()\n",
    "\n",
    "#histogram basic options.\n",
    "\n",
    "plt.hist(a)\n",
    "plt.title(\"Gaussian Histogram\")\n",
    "plt.xlabel(\"Value\")\n",
    "plt.ylabel(\"Frequency\")\n",
    "plt.show()"
   ]
  },
  {
   "cell_type": "code",
   "execution_count": 5,
   "id": "33749997",
   "metadata": {},
   "outputs": [
    {
     "data": {
      "image/png": "[encoded data removed]",
      "text/plain": [
       "<Figure size 432x288 with 1 Axes>"
      ]
     },
     "metadata": {
      "needs_background": "light"
     },
     "output_type": "display_data"
    },
    {
     "data": {
      "image/png": "[encoded data removed]",
      "text/plain": [
       "<Figure size 432x288 with 1 Axes>"
      ]
     },
     "metadata": {
      "needs_background": "light"
     },
     "output_type": "display_data"
    }
   ],
   "source": [
    "\"\"\" multiple graphs in one output using subplot() function \"\"\"\n",
    "plt.subplot(2, 1, 1)\n",
    "plt.hist(a)\n",
    "plt.title(\"PCE Histogram\")\n",
    "plt.xlabel(\"Value\")\n",
    "plt.ylabel(\"Frequency\")\n",
    "plt.show()\n",
    "\n",
    "plt.subplot(2, 1, 2)\n",
    "plt.hist(b)\n",
    "plt.title(\"Wages Histogram\")\n",
    "plt.xlabel(\"Value\")\n",
    "plt.ylabel(\"Frequency\")\n",
    "plt.show()"
   ]
  },
  {
   "cell_type": "code",
   "execution_count": 6,
   "id": "bba385a6",
   "metadata": {},
   "outputs": [
    {
     "name": "stdout",
     "output_type": "stream",
     "text": [
      "Skew of a: 0.078273\n",
      "Skew of b: -0.052913\n",
      "Kurtosis of a: 1.649952\n",
      "Kurtosis of b: 1.685875\n"
     ]
    }
   ],
   "source": [
    "\"\"\" DESCRIPTIVE STATS \"\"\"\n",
    "df.describe()\n",
    "\n",
    "import scipy.stats as stats\n",
    "\n",
    "print(\"Skew of a: %f\" % stats.skew(a))\n",
    "print(\"Skew of b: %f\" % stats.skew(b))\n",
    "\n",
    "print(\"Kurtosis of a: %f\" % stats.kurtosis(a, fisher=False))\n",
    "print(\"Kurtosis of b: %f\" % stats.kurtosis(b, fisher=False))"
   ]
  },
  {
   "cell_type": "code",
   "execution_count": 7,
   "id": "601c462f",
   "metadata": {},
   "outputs": [
    {
     "name": "stdout",
     "output_type": "stream",
     "text": [
      "Kurtosis of PCE: -1.350048\n",
      "Skew of PCE: 0.078273\n"
     ]
    }
   ],
   "source": [
    "print(\"Kurtosis of PCE: %f\" % stats.kurtosis(df['PCE']))\n",
    "print(\"Skew of PCE: %f\" % stats.skew(df['PCE']))"
   ]
  },
  {
   "cell_type": "code",
   "execution_count": 8,
   "id": "05bd0f08",
   "metadata": {},
   "outputs": [],
   "source": [
    "\"\"\" adapted from https://www.dev2qa.com/how-to-run-python-script-py-file-in-jupyter-notebook-ipynb-file-and-ipython/ \"\"\"\n",
    "# %%writefile JacqueBera.py\n",
    "# use ipython magic command %%writefile to create a python script file and write below script content to it.\n",
    "import numpy as np\n",
    "from scipy import stats\n",
    "\n",
    "def jarque_bera(resids, axis=0):\n",
    "    r\"\"\"\n",
    "    Calculates the Jarque-Bera test for normality\n",
    "\n",
    "    Parameters\n",
    "    -----------\n",
    "    data : array-like\n",
    "        Data to test for normality\n",
    "    axis : int, optional\n",
    "        Axis to use if data has more than 1 dimension. Default is 0\n",
    "\n",
    "    Returns\n",
    "    -------\n",
    "    JB : float or array\n",
    "        The Jarque-Bera test statistic\n",
    "    JBpv : float or array\n",
    "        The pvalue of the test statistic\n",
    "    skew : float or array\n",
    "        Estimated skewness of the data\n",
    "    kurtosis : float or array\n",
    "        Estimated kurtosis of the data\n",
    "\n",
    "    Notes\n",
    "    -----\n",
    "    Each output returned has 1 dimension fewer than data\n",
    "\n",
    "\n",
    "    The Jarque-Bera test statistic tests the null that the data is normally\n",
    "    distributed against an alternative that the data follow some other\n",
    "    distribution. The test statistic is based on two moments of the data,\n",
    "    the skewness, and the kurtosis, and has an asymptotic :math:`\\chi^2_2`\n",
    "    distribution.\n",
    "\n",
    "    The test statistic is defined\n",
    "\n",
    "    .. math:: JB = n(S^2/6+(K-3)^2/24)\n",
    "\n",
    "    where n is the number of data points, S is the sample skewness, and K is\n",
    "    the sample kurtosis of the data.\n",
    "    \"\"\"\n",
    "    resids = np.asarray(resids)\n",
    "    # Calculate residual skewness and kurtosis\n",
    "    skew = stats.skew(resids, axis=axis)\n",
    "    kurtosis = 3 + stats.kurtosis(resids, axis=axis)\n",
    "\n",
    "    # Calculate the Jarque-Bera test for normality\n",
    "    n = resids.shape[axis]\n",
    "    jb = (n / 6.) * (skew ** 2 + (1 / 4.) * (kurtosis - 3) ** 2)\n",
    "    jb_pv = stats.chi2.sf(jb, 2)\n",
    "\n",
    "    return jb, jb_pv, skew, kurtosis"
   ]
  },
  {
   "cell_type": "code",
   "execution_count": 9,
   "id": "b6f1fc4e",
   "metadata": {},
   "outputs": [
    {
     "data": {
      "text/plain": [
       "(1.9240989082136077,\n",
       " 0.3821089681536719,\n",
       " 0.07827263178294185,\n",
       " 1.6499523962688756)"
      ]
     },
     "execution_count": 9,
     "metadata": {},
     "output_type": "execute_result"
    },
    {
     "data": {
      "text/plain": [
       "<Figure size 432x288 with 0 Axes>"
      ]
     },
     "metadata": {},
     "output_type": "display_data"
    }
   ],
   "source": [
    "%run -i JacqueBera.py # comment out if unable to run the above %%writefile command\n",
    "jarque_bera(a)"
   ]
  },
  {
   "cell_type": "code",
   "execution_count": 10,
   "id": "ac6cd18a",
   "metadata": {},
   "outputs": [
    {
     "name": "stdout",
     "output_type": "stream",
     "text": [
      "0    8.249471\n",
      "1    8.284050\n",
      "2    8.346571\n",
      "3    8.405367\n",
      "4    8.464003\n",
      "Name: PCE, dtype: float64\n"
     ]
    }
   ],
   "source": [
    "\"\"\" DATA TRANSFORMATION \"\"\"\n",
    "import numpy as np\n",
    "\n",
    "df_log_a = np.log(df[\"PCE\"])\n",
    "print(df_log_a.head(5))"
   ]
  },
  {
   "cell_type": "code",
   "execution_count": 11,
   "id": "7a2d8487",
   "metadata": {},
   "outputs": [
    {
     "name": "stdout",
     "output_type": "stream",
     "text": [
      "                            OLS Regression Results                            \n",
      "==============================================================================\n",
      "Dep. Variable:                    PCE   R-squared:                       0.993\n",
      "Model:                            OLS   Adj. R-squared:                  0.993\n",
      "Method:                 Least Squares   F-statistic:                     3317.\n",
      "Date:                Wed, 08 Dec 2021   Prob (F-statistic):           2.26e-26\n",
      "Time:                        16:55:53   Log-Likelihood:                -169.14\n",
      "No. Observations:                  25   AIC:                             342.3\n",
      "Df Residuals:                      23   BIC:                             344.7\n",
      "Df Model:                           1                                         \n",
      "Covariance Type:            nonrobust                                         \n",
      "==============================================================================\n",
      "                 coef    std err          t      P>|t|      [0.025      0.975]\n",
      "------------------------------------------------------------------------------\n",
      "Intercept  -1006.2594    155.342     -6.478      0.000   -1327.609    -684.910\n",
      "WAG_S          1.7143      0.030     57.594      0.000       1.653       1.776\n",
      "==============================================================================\n",
      "Omnibus:                        2.159   Durbin-Watson:                   0.333\n",
      "Prob(Omnibus):                  0.340   Jarque-Bera (JB):                1.889\n",
      "Skew:                          -0.605   Prob(JB):                        0.389\n",
      "Kurtosis:                       2.408   Cond. No.                     1.85e+04\n",
      "==============================================================================\n",
      "\n",
      "Notes:\n",
      "[1] Standard Errors assume that the covariance matrix of the errors is correctly specified.\n",
      "[2] The condition number is large, 1.85e+04. This might indicate that there are\n",
      "strong multicollinearity or other numerical problems.\n"
     ]
    }
   ],
   "source": [
    "\"\"\" LINEAR SINGLE REGRESSION \"\"\"\n",
    "import numpy as np\n",
    "import pandas as pd\n",
    "\n",
    "#for the OLS function\n",
    "from statsmodels.formula.api import ols\n",
    "\n",
    "#for the BP test\n",
    "import statsmodels.stats.api as sms\n",
    "\n",
    "import matplotlib.pyplot as plt\n",
    "import statsmodels.api as stats\n",
    "\n",
    "#additional functionality\n",
    "from statsmodels.compat import lzip\n",
    "\n",
    "# df = pd.read_csv('./PRAC_DATA.csv')\n",
    "\n",
    "model1 = ols(\"PCE ~ WAG_S\", data=df).fit()\n",
    "\n",
    "print (model1.summary())"
   ]
  },
  {
   "cell_type": "code",
   "execution_count": 12,
   "id": "761c06b4",
   "metadata": {},
   "outputs": [
    {
     "name": "stdout",
     "output_type": "stream",
     "text": [
      "Parameters:  Intercept   -1006.259401\n",
      "WAG_S           1.714317\n",
      "dtype: float64\n",
      "R2:  0.9931138094784611\n",
      "Residuals:  0     132.574643\n",
      "1     141.515234\n",
      "2     138.153422\n",
      "3     198.364189\n",
      "4     198.702182\n",
      "5     130.925145\n",
      "6      74.533293\n",
      "7     -79.103327\n",
      "8    -259.327037\n",
      "9    -329.164155\n",
      "10   -474.461245\n",
      "11   -384.050932\n",
      "12   -175.052231\n",
      "13    -36.056603\n",
      "14    -28.593959\n",
      "15     42.469118\n",
      "16    -74.042180\n",
      "17   -206.638339\n",
      "18   -177.885423\n",
      "19    136.380393\n",
      "20    275.405066\n",
      "21    324.154302\n",
      "22    176.130830\n",
      "23    202.225138\n",
      "24     52.842473\n",
      "dtype: float64\n",
      "Standard errors:  Intercept    155.341975\n",
      "WAG_S          0.029766\n",
      "dtype: float64\n",
      "Predicted values:  [ 3693.02535704  3818.68476633  4077.54657811  4272.63581109\n",
      "  4542.29781767  4853.27485513  5193.56670703  5639.80332694\n",
      "  6162.32703707  6636.16415479  7266.86124454  7487.15093205\n",
      "  7559.15223069  7801.55660278  8288.59395858  8751.6308815\n",
      "  9378.04217967  9957.13833874 10191.48542264  9710.61960672\n",
      "  9926.79493431 10365.1456977  10874.46916974 11190.07486212\n",
      " 11813.05752702]\n"
     ]
    }
   ],
   "source": [
    "\"\"\" print out only statistical measures \"\"\"\n",
    "print('Parameters: ', model1.params)\n",
    "print('R2: ', model1.rsquared)\n",
    "print('Residuals: ', model1.resid)\n",
    "\n",
    "print('Standard errors: ', model1.bse)\n",
    "print('Predicted values: ', model1.predict())"
   ]
  },
  {
   "cell_type": "code",
   "execution_count": 13,
   "id": "322f7b49",
   "metadata": {},
   "outputs": [
    {
     "name": "stdout",
     "output_type": "stream",
     "text": [
      "correlation:             PCE     WAG_S\n",
      "PCE    1.000000  0.996551\n",
      "WAG_S  0.996551  1.000000\n"
     ]
    },
    {
     "data": {
      "text/plain": [
       "[('Lagrange multiplier statistic', 0.056030952645055865),\n",
       " ('p-value', 0.8128828769221963),\n",
       " ('f-value', 0.051664268360409375),\n",
       " ('f p-value', 0.8222005061406059)]"
      ]
     },
     "execution_count": 13,
     "metadata": {},
     "output_type": "execute_result"
    }
   ],
   "source": [
    "\"\"\" examine MODEL ASSUMPTIONS \"\"\"\n",
    "# correlation\n",
    "print(\"correlation:\", df.corr())\n",
    "# Breusch-Pagan Test (heteroskedasticity)\n",
    "import statsmodels.stats.api as sms\n",
    "from statsmodels.compat import lzip\n",
    "\n",
    "name = ['Lagrange multiplier statistic', 'p-value',\n",
    "        'f-value', 'f p-value']\n",
    "test = sms.het_breuschpagan(model1.resid, model1.model.exog)\n",
    "lzip(name, test)"
   ]
  },
  {
   "cell_type": "code",
   "execution_count": 14,
   "id": "216236c6",
   "metadata": {},
   "outputs": [
    {
     "name": "stdout",
     "output_type": "stream",
     "text": [
      "                            OLS Regression Results                            \n",
      "==============================================================================\n",
      "Dep. Variable:                dealers   R-squared:                       0.903\n",
      "Model:                            OLS   Adj. R-squared:                  0.895\n",
      "Method:                 Least Squares   F-statistic:                     125.1\n",
      "Date:                Wed, 08 Dec 2021   Prob (F-statistic):           2.22e-14\n",
      "Time:                        16:55:53   Log-Likelihood:                -85.937\n",
      "No. Observations:                  30   AIC:                             177.9\n",
      "Df Residuals:                      27   BIC:                             182.1\n",
      "Df Model:                           2                                         \n",
      "Covariance Type:            nonrobust                                         \n",
      "==============================================================================\n",
      "                 coef    std err          t      P>|t|      [0.025      0.975]\n",
      "------------------------------------------------------------------------------\n",
      "Intercept    -13.6665      2.582     -5.293      0.000     -18.965      -8.368\n",
      "population     0.3160      0.066      4.798      0.000       0.181       0.451\n",
      "stores         0.4544      0.449      1.011      0.321      -0.468       1.377\n",
      "==============================================================================\n",
      "Omnibus:                        2.254   Durbin-Watson:                   2.005\n",
      "Prob(Omnibus):                  0.324   Jarque-Bera (JB):                1.040\n",
      "Skew:                          -0.302   Prob(JB):                        0.595\n",
      "Kurtosis:                       3.683   Cond. No.                         329.\n",
      "==============================================================================\n",
      "\n",
      "Notes:\n",
      "[1] Standard Errors assume that the covariance matrix of the errors is correctly specified.\n"
     ]
    }
   ],
   "source": [
    "\"\"\" MULTIPLE REGRESSION \"\"\"\n",
    "df=pd.read_excel('.\\SouthStyleData2.xlsx')\n",
    "df.columns = [\"ter\", \"sales\",\"market\",\"stores\",\"dealers\",\"brands\",\"population\"]\n",
    "\n",
    "model2 = ols(\"dealers ~ population + stores\", data=df).fit()\n",
    "print (model2.summary())"
   ]
  },
  {
   "cell_type": "code",
   "execution_count": 15,
   "id": "e9a62b3f",
   "metadata": {},
   "outputs": [
    {
     "data": {
      "text/html": [
       "<div>\n",
       "<style scoped>\n",
       "    .dataframe tbody tr th:only-of-type {\n",
       "        vertical-align: middle;\n",
       "    }\n",
       "\n",
       "    .dataframe tbody tr th {\n",
       "        vertical-align: top;\n",
       "    }\n",
       "\n",
       "    .dataframe thead th {\n",
       "        text-align: right;\n",
       "    }\n",
       "</style>\n",
       "<table border=\"1\" class=\"dataframe\">\n",
       "  <thead>\n",
       "    <tr style=\"text-align: right;\">\n",
       "      <th></th>\n",
       "      <th>ter</th>\n",
       "      <th>sales</th>\n",
       "      <th>market</th>\n",
       "      <th>stores</th>\n",
       "      <th>dealers</th>\n",
       "      <th>brands</th>\n",
       "      <th>population</th>\n",
       "    </tr>\n",
       "  </thead>\n",
       "  <tbody>\n",
       "    <tr>\n",
       "      <th>ter</th>\n",
       "      <td>1.000000</td>\n",
       "      <td>0.042705</td>\n",
       "      <td>-0.068923</td>\n",
       "      <td>0.049701</td>\n",
       "      <td>0.012885</td>\n",
       "      <td>0.077219</td>\n",
       "      <td>0.084445</td>\n",
       "    </tr>\n",
       "    <tr>\n",
       "      <th>sales</th>\n",
       "      <td>0.042705</td>\n",
       "      <td>1.000000</td>\n",
       "      <td>0.943238</td>\n",
       "      <td>0.913674</td>\n",
       "      <td>0.975638</td>\n",
       "      <td>-0.919762</td>\n",
       "      <td>0.974565</td>\n",
       "    </tr>\n",
       "    <tr>\n",
       "      <th>market</th>\n",
       "      <td>-0.068923</td>\n",
       "      <td>0.943238</td>\n",
       "      <td>1.000000</td>\n",
       "      <td>0.856976</td>\n",
       "      <td>0.926025</td>\n",
       "      <td>-0.874692</td>\n",
       "      <td>0.910641</td>\n",
       "    </tr>\n",
       "    <tr>\n",
       "      <th>stores</th>\n",
       "      <td>0.049701</td>\n",
       "      <td>0.913674</td>\n",
       "      <td>0.856976</td>\n",
       "      <td>1.000000</td>\n",
       "      <td>0.905276</td>\n",
       "      <td>-0.761793</td>\n",
       "      <td>0.931535</td>\n",
       "    </tr>\n",
       "    <tr>\n",
       "      <th>dealers</th>\n",
       "      <td>0.012885</td>\n",
       "      <td>0.975638</td>\n",
       "      <td>0.926025</td>\n",
       "      <td>0.905276</td>\n",
       "      <td>1.000000</td>\n",
       "      <td>-0.878535</td>\n",
       "      <td>0.948104</td>\n",
       "    </tr>\n",
       "    <tr>\n",
       "      <th>brands</th>\n",
       "      <td>0.077219</td>\n",
       "      <td>-0.919762</td>\n",
       "      <td>-0.874692</td>\n",
       "      <td>-0.761793</td>\n",
       "      <td>-0.878535</td>\n",
       "      <td>1.000000</td>\n",
       "      <td>-0.889729</td>\n",
       "    </tr>\n",
       "    <tr>\n",
       "      <th>population</th>\n",
       "      <td>0.084445</td>\n",
       "      <td>0.974565</td>\n",
       "      <td>0.910641</td>\n",
       "      <td>0.931535</td>\n",
       "      <td>0.948104</td>\n",
       "      <td>-0.889729</td>\n",
       "      <td>1.000000</td>\n",
       "    </tr>\n",
       "  </tbody>\n",
       "</table>\n",
       "</div>"
      ],
      "text/plain": [
       "                 ter     sales    market    stores   dealers    brands  \\\n",
       "ter         1.000000  0.042705 -0.068923  0.049701  0.012885  0.077219   \n",
       "sales       0.042705  1.000000  0.943238  0.913674  0.975638 -0.919762   \n",
       "market     -0.068923  0.943238  1.000000  0.856976  0.926025 -0.874692   \n",
       "stores      0.049701  0.913674  0.856976  1.000000  0.905276 -0.761793   \n",
       "dealers     0.012885  0.975638  0.926025  0.905276  1.000000 -0.878535   \n",
       "brands      0.077219 -0.919762 -0.874692 -0.761793 -0.878535  1.000000   \n",
       "population  0.084445  0.974565  0.910641  0.931535  0.948104 -0.889729   \n",
       "\n",
       "            population  \n",
       "ter           0.084445  \n",
       "sales         0.974565  \n",
       "market        0.910641  \n",
       "stores        0.931535  \n",
       "dealers       0.948104  \n",
       "brands       -0.889729  \n",
       "population    1.000000  "
      ]
     },
     "execution_count": 15,
     "metadata": {},
     "output_type": "execute_result"
    }
   ],
   "source": [
    "\"\"\" check multi-collinearity\"\"\"\n",
    "df.corr() # e.g. \"sales\" and \"market\" are highly correlated"
   ]
  },
  {
   "cell_type": "code",
   "execution_count": 16,
   "id": "5e510a00",
   "metadata": {},
   "outputs": [
    {
     "data": {
      "text/plain": [
       "[('Lagrange multiplier statistic', 0.9456771185437773),\n",
       " ('p-value', 0.6232306778708472),\n",
       " ('f-value', 0.43940590708067157),\n",
       " ('f p-value', 0.6489456142051184)]"
      ]
     },
     "execution_count": 16,
     "metadata": {},
     "output_type": "execute_result"
    }
   ],
   "source": [
    "\"\"\" Breusch-Pagan Test \"\"\"\n",
    "import statsmodels.stats.api as sms\n",
    "from statsmodels.compat import lzip\n",
    "\n",
    "name = ['Lagrange multiplier statistic', 'p-value',\n",
    "        'f-value', 'f p-value']\n",
    "\n",
    "test = sms.het_breuschpagan(model2.resid, model2.model.exog)\n",
    "lzip(name, test)"
   ]
  }
 ],
 "metadata": {
  "kernelspec": {
   "display_name": "Python 3 (ipykernel)",
   "language": "python",
   "name": "python3"
  },
  "language_info": {
   "codemirror_mode": {
    "name": "ipython",
    "version": 3
   },
   "file_extension": ".py",
   "mimetype": "text/x-python",
   "name": "python",
   "nbconvert_exporter": "python",
   "pygments_lexer": "ipython3",
   "version": "3.9.7"
  }
 },
 "nbformat": 4,
 "nbformat_minor": 5
}
